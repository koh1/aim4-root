{
 "cells": [
  {
   "cell_type": "code",
   "execution_count": 1,
   "metadata": {
    "collapsed": true
   },
   "outputs": [],
   "source": [
    "%matplotlib inline\n",
    "\n",
    "import pandas as pd\n",
    "import numpy as np\n",
    "import matplotlib.pyplot as plt\n",
    "\n",
    "plt.style.use('ggplot')"
   ]
  },
  {
   "cell_type": "code",
   "execution_count": 2,
   "metadata": {
    "collapsed": true
   },
   "outputs": [],
   "source": [
    "def load_file(file_name):\n",
    "    f = open(file_name, 'r')\n",
    "    array_r = []\n",
    "    array_t = []\n",
    "    array_p = []\n",
    "    array_pps = []\n",
    "    for r in f:\n",
    "        \n",
    "        line = r.strip().split(' ')\n",
    "        #print(line)\n",
    "        if line[6].strip() == \"RESERVATION_CONFIRMED,\":\n",
    "            pass\n",
    "            #array_r.append([float(line[0].strip()), int(line[1].strip()), int(line[3].strip()), int(line[4].strip())])\n",
    "        elif line[6].strip() == \"VEHICLE_REMOVED,\":\n",
    "            pass\n",
    "            #array_t.append([float(line[0].strip()), int(line[1].strip()), float(line[3].strip())])\n",
    "        elif line[6].strip() == \"V2I_MSG_PROCESSED_PER_STEP,\":\n",
    "            array_pps.append(float(line[7]))\n",
    "        elif line[6].strip() == \"V2I_MSG_PROCESSED,\":\n",
    "            array_p.append(float(line[7][0:-1]))\n",
    "    #df_r = pd.DataFrame(array_r, columns=[\"time\", \"vid\", \"conflicts\", \"unacceptables\"])\n",
    "    #df_t = pd.DataFrame(array_t, columns=[\"time\", \"vid\", \"duration\"])\n",
    "    return array_p, array_pps\n",
    "    #return (df_r, df_t)"
   ]
  },
  {
   "cell_type": "code",
   "execution_count": 3,
   "metadata": {
    "collapsed": true
   },
   "outputs": [],
   "source": [
    "l2p, l2pps = load_file(\"/Users/koh1/dev/aim4-root/logs/mylog_v1000_2l.log\")\n",
    "l3p, l3pps = load_file(\"/Users/koh1/dev/aim4-root/logs/mylog_v1000_3l.log\")\n",
    "l5p, l5pps = load_file(\"/Users/koh1/dev/aim4-root/logs/mylog_v1000_5l.log\")\n"
   ]
  },
  {
   "cell_type": "code",
   "execution_count": 4,
   "metadata": {},
   "outputs": [
    {
     "data": {
      "text/plain": [
       "<matplotlib.legend.Legend at 0x11403fcf8>"
      ]
     },
     "execution_count": 4,
     "metadata": {},
     "output_type": "execute_result"
    },
    {
     "data": {
      "image/png": "[encoded data removed]",
      "text/plain": [
       "<matplotlib.figure.Figure at 0x113f23470>"
      ]
     },
     "metadata": {},
     "output_type": "display_data"
    }
   ],
   "source": [
    "plt.figure(figsize=(8,6))\n",
    "plt.hist(l2pps, bins=100, histtype='step', cumulative=True, normed=True, alpha=1, fill=False, label=\"2 lanes\", linewidth=2)\n",
    "plt.hist(l3pps, bins=100, histtype='step', cumulative=True, normed=True, alpha=1, fill=False, label=\"3 lanes\", linewidth=2)\n",
    "plt.hist(l5pps, bins=100, histtype='step', cumulative=True, normed=True, alpha=1, fill=False, label=\"5 lanes\", linewidth=2)\n",
    "plt.xlim(0,60000)\n",
    "plt.ylim(0.6, 1.1)\n",
    "plt.xlabel(\"calculation time per vehicle [usec]\")\n",
    "plt.legend(loc='lower left')"
   ]
  },
  {
   "cell_type": "markdown",
   "metadata": {},
   "source": [
    "# Request/Response Time"
   ]
  },
  {
   "cell_type": "code",
   "execution_count": 13,
   "metadata": {},
   "outputs": [],
   "source": [
    "def load_sim_result(file_name):\n",
    "    f = open(file_name, 'r')\n",
    "    # request-response (simulated computation and nw latency)\n",
    "    # travel time\n",
    "    # real calculation time for the vehicle\n",
    "    result_list = {}\n",
    "    result = []\n",
    "    plan_per_cycle = []\n",
    "    for r in f:\n",
    "\n",
    "        line = r.strip().split(' ')\n",
    "        if line[6].strip() == \"ARRIVAL_ESTIMATE_TIME\":\n",
    "            devid = line[8].strip()\n",
    "            if devid in result_list:\n",
    "                result_list[devid][\"estimate_time_us\"] = float(line[7].strip())\n",
    "            else:\n",
    "                result_list[devid] = {\"estimate_time_us\": float(line[7].strip())}\n",
    "        elif line[6].strip() == \"AWAITING_RESPONSE\":\n",
    "            devid = line[8].strip()\n",
    "            if devid in result_list:\n",
    "                if not \"awaiting_time_s\" in result_list[devid]:\n",
    "                    result_list[devid][\"awaiting_time_s\"] = float(line[7].strip())\n",
    "            else:\n",
    "                result_list[devid] = {\"awaiting_time_s\": float(line[7].strip())}\n",
    "        elif line[6].strip() == \"V2I_MSG_PROCESSED\":\n",
    "            devid = line[8].strip()\n",
    "            if devid in result_list:\n",
    "                result_list[devid][\"planning_time_us\"] = float(line[7].strip())\n",
    "            else:\n",
    "                result_list[devid] = {\"planning_time_us\": float(line[7].strip())}\n",
    "        elif line[6].strip() == \"RESERVATION_CONFIRMED\":\n",
    "            devid = line[8].strip()\n",
    "            if devid in result_list:\n",
    "                result_list[devid][\"reserved_time_s\"] = float(line[7].strip())\n",
    "                result_list[devid][\"response_time_s\"] = result_list[devid][\"reserved_time_s\"] - result_list[devid][\"awaiting_time_s\"]\n",
    "                result_list[devid][\"reject_count\"] = int(line[9].strip())\n",
    "                result_list[devid][\"unacceptable_count\"] = int(line[10].strip())\n",
    "                result_list[devid][\"nw_latency_s\"] = float(line[11].strip())                \n",
    "            else:\n",
    "                pass\n",
    "#                result_list[devid] = {\"reserved_time\": float(line[7].strip())}\n",
    "            #array_r.append([float(line[0].strip()), int(line[1].strip()), int(line[3].strip()), int(line[4].strip())])\n",
    "        elif line[6].strip() == \"VEHICLE_REMOVED\":\n",
    "            devid = line[8].strip()\n",
    "            if devid in result_list:\n",
    "                result_list[devid][\"removed_time_s\"] = float(line[7].strip())\n",
    "                result_list[devid][\"travel_time_s\"] = float(line[9].strip())\n",
    "            #array_t.append([float(line[0].strip()), int(line[1].strip()), float(line[3].strip())])\n",
    "        else:\n",
    "            pass\n",
    "        #elif line[6].strip() == \"V2I_MSG_PROCESSED_PER_STEP,\":\n",
    "    #df_r = pd.DataFrame(array_r, columns=[\"time\", \"vid\", \"conflicts\", \"unacceptables\"])\n",
    "    #df_t = pd.DataFrame(array_t, columns=[\"time\", \"vid\", \"duration\"])\n",
    "    for k,v in result_list.items():\n",
    "        nv = v\n",
    "        nv[\"devid\"] = k\n",
    "        result.append(nv)\n",
    "    return pd.DataFrame(result)\n",
    "    #return (df_r, df_t)"
   ]
  },
  {
   "cell_type": "code",
   "execution_count": 14,
   "metadata": {},
   "outputs": [],
   "source": [
    "lane1 = load_sim_result(\"/Users/koh1/dev/aim4-root/logs/mylog_v1000_1l_201802190035.log\")\n",
    "df1 = lane1.dropna(axis=0, how='any')\n",
    "lane2 = load_sim_result(\"/Users/koh1/dev/aim4-root/logs/mylog_v1000_2l_201802190035.log\")\n",
    "df2 = lane2.dropna(axis=0, how='any')\n",
    "lane3 = load_sim_result(\"/Users/koh1/dev/aim4-root/logs/mylog_v1000_3l_201802190035.log\")\n",
    "df3 = lane3.dropna(axis=0, how='any')\n",
    "lane4 = load_sim_result(\"/Users/koh1/dev/aim4-root/logs/mylog_v1000_4l_201802190035.log\")\n",
    "df4 = lane4.dropna(axis=0, how='any')\n",
    "lane5 = load_sim_result(\"/Users/koh1/dev/aim4-root/logs/mylog_v1000_5l_201802190035.log\")\n",
    "df5 = lane5.dropna(axis=0, how='any')"
   ]
  },
  {
   "cell_type": "code",
   "execution_count": 9,
   "metadata": {},
   "outputs": [
    {
     "data": {
      "text/plain": [
       "<matplotlib.legend.Legend at 0x114b1e668>"
      ]
     },
     "execution_count": 9,
     "metadata": {},
     "output_type": "execute_result"
    },
    {
     "data": {
      "image/png": "[encoded data removed]",
      "text/plain": [
       "<matplotlib.figure.Figure at 0x114ad4e10>"
      ]
     },
     "metadata": {},
     "output_type": "display_data"
    }
   ],
   "source": [
    "plt.figure(figsize=(8,6))\n",
    "plt.hist(df1[\"planning_time_us\"], bins=100, histtype='step', cumulative=True, normed=True, alpha=1, fill=False, label=\"1 lanes\", linewidth=2)\n",
    "plt.hist(df2[\"planning_time_us\"], bins=100, histtype='step', cumulative=True, normed=True, alpha=1, fill=False, label=\"2 lanes\", linewidth=2)\n",
    "plt.hist(df3[\"planning_time_us\"], bins=100, histtype='step', cumulative=True, normed=True, alpha=1, fill=False, label=\"3 lanes\", linewidth=2)\n",
    "plt.hist(df4[\"planning_time_us\"], bins=100, histtype='step', cumulative=True, normed=True, alpha=1, fill=False, label=\"4 lanes\", linewidth=2)\n",
    "plt.hist(df5[\"planning_time_us\"], bins=100, histtype='step', cumulative=True, normed=True, alpha=1, fill=False, label=\"5 lanes\", linewidth=2)\n",
    "#plt.xlim(0,40)\n",
    "plt.ylim(0.6, 1.05)\n",
    "plt.xlabel(\"planning time per vehicle [usec]\")\n",
    "plt.legend(loc='lower right')"
   ]
  },
  {
   "cell_type": "code",
   "execution_count": 118,
   "metadata": {},
   "outputs": [
    {
     "data": {
      "text/plain": [
       "<matplotlib.legend.Legend at 0x11abe0be0>"
      ]
     },
     "execution_count": 118,
     "metadata": {},
     "output_type": "execute_result"
    },
    {
     "data": {
      "image/png": "[encoded data removed]",
      "text/plain": [
       "<matplotlib.figure.Figure at 0x11990fb70>"
      ]
     },
     "metadata": {},
     "output_type": "display_data"
    }
   ],
   "source": [
    "plt.figure(figsize=(8,6))\n",
    "plt.hist(df1[\"estimate_time_us\"], bins=100, histtype='step', cumulative=True, normed=True, alpha=1, fill=False, label=\"1 lanes\", linewidth=2)\n",
    "plt.hist(df2[\"estimate_time_us\"], bins=100, histtype='step', cumulative=True, normed=True, alpha=1, fill=False, label=\"2 lanes\", linewidth=2)\n",
    "plt.hist(df3[\"estimate_time_us\"], bins=100, histtype='step', cumulative=True, normed=True, alpha=1, fill=False, label=\"3 lanes\", linewidth=2)\n",
    "plt.hist(df4[\"estimate_time_us\"], bins=100, histtype='step', cumulative=True, normed=True, alpha=1, fill=False, label=\"4 lanes\", linewidth=2)\n",
    "plt.hist(df5[\"estimate_time_us\"], bins=100, histtype='step', cumulative=True, normed=True, alpha=1, fill=False, label=\"5 lanes\", linewidth=2)\n",
    "#plt.xlim(0,40)\n",
    "plt.ylim(0.6, 1.05)\n",
    "plt.xlabel(\"estimate time per vehicle [usec]\")\n",
    "plt.legend(loc='lower right')"
   ]
  },
  {
   "cell_type": "code",
   "execution_count": 16,
   "metadata": {},
   "outputs": [
    {
     "data": {
      "text/plain": [
       "<matplotlib.legend.Legend at 0x114e54e10>"
      ]
     },
     "execution_count": 16,
     "metadata": {},
     "output_type": "execute_result"
    },
    {
     "data": {
      "image/png": "[encoded data removed]",
      "text/plain": [
       "<matplotlib.figure.Figure at 0x114bb3518>"
      ]
     },
     "metadata": {},
     "output_type": "display_data"
    }
   ],
   "source": [
    "plt.figure(figsize=(8,6))\n",
    "plt.hist(df1[\"response_time_s\"], bins=100, histtype='step', cumulative=True, normed=True, alpha=1, fill=False, label=\"1 lanes\", linewidth=2)\n",
    "plt.hist(df2[\"response_time_s\"], bins=100, histtype='step', cumulative=True, normed=True, alpha=1, fill=False, label=\"2 lanes\", linewidth=2)\n",
    "plt.hist(df3[\"response_time_s\"], bins=100, histtype='step', cumulative=True, normed=True, alpha=1, fill=False, label=\"3 lanes\", linewidth=2)\n",
    "plt.hist(df4[\"response_time_s\"], bins=100, histtype='step', cumulative=True, normed=True, alpha=1, fill=False, label=\"4 lanes\", linewidth=2)\n",
    "plt.hist(df5[\"response_time_s\"], bins=100, histtype='step', cumulative=True, normed=True, alpha=1, fill=False, label=\"5 lanes\", linewidth=2)\n",
    "plt.xlim(0,40)\n",
    "#plt.ylim(0.6, 1.05)\n",
    "plt.xlabel(\"response time [sec]\")\n",
    "plt.legend(loc='lower right')"
   ]
  },
  {
   "cell_type": "code",
   "execution_count": 23,
   "metadata": {},
   "outputs": [
    {
     "data": {
      "text/html": [
       "<div>\n",
       "<style>\n",
       "    .dataframe thead tr:only-child th {\n",
       "        text-align: right;\n",
       "    }\n",
       "\n",
       "    .dataframe thead th {\n",
       "        text-align: left;\n",
       "    }\n",
       "\n",
       "    .dataframe tbody tr th {\n",
       "        vertical-align: top;\n",
       "    }\n",
       "</style>\n",
       "<table border=\"1\" class=\"dataframe\">\n",
       "  <thead>\n",
       "    <tr style=\"text-align: right;\">\n",
       "      <th></th>\n",
       "      <th>awaiting_time_s</th>\n",
       "      <th>estimate_time_us</th>\n",
       "      <th>nw_latency_s</th>\n",
       "      <th>planning_time_us</th>\n",
       "      <th>reject_count</th>\n",
       "      <th>removed_time_s</th>\n",
       "      <th>reserved_time_s</th>\n",
       "      <th>response_time_s</th>\n",
       "      <th>travel_time_s</th>\n",
       "      <th>unacceptable_count</th>\n",
       "    </tr>\n",
       "  </thead>\n",
       "  <tbody>\n",
       "    <tr>\n",
       "      <th>count</th>\n",
       "      <td>4796.000000</td>\n",
       "      <td>4796.000000</td>\n",
       "      <td>4796.000000</td>\n",
       "      <td>4796.000000</td>\n",
       "      <td>4796.000000</td>\n",
       "      <td>4796.000000</td>\n",
       "      <td>4796.000000</td>\n",
       "      <td>4796.000000</td>\n",
       "      <td>4796.000000</td>\n",
       "      <td>4796.000000</td>\n",
       "    </tr>\n",
       "    <tr>\n",
       "      <th>mean</th>\n",
       "      <td>801.487969</td>\n",
       "      <td>0.458628</td>\n",
       "      <td>0.041953</td>\n",
       "      <td>4.564994</td>\n",
       "      <td>28.305254</td>\n",
       "      <td>822.015959</td>\n",
       "      <td>806.766768</td>\n",
       "      <td>5.278799</td>\n",
       "      <td>97.898424</td>\n",
       "      <td>0.127815</td>\n",
       "    </tr>\n",
       "    <tr>\n",
       "      <th>std</th>\n",
       "      <td>461.686892</td>\n",
       "      <td>0.881040</td>\n",
       "      <td>0.017417</td>\n",
       "      <td>2.818630</td>\n",
       "      <td>49.764432</td>\n",
       "      <td>461.627864</td>\n",
       "      <td>461.797503</td>\n",
       "      <td>8.999049</td>\n",
       "      <td>60.787036</td>\n",
       "      <td>1.122585</td>\n",
       "    </tr>\n",
       "    <tr>\n",
       "      <th>min</th>\n",
       "      <td>1.040000</td>\n",
       "      <td>0.116000</td>\n",
       "      <td>0.020000</td>\n",
       "      <td>0.845000</td>\n",
       "      <td>0.000000</td>\n",
       "      <td>22.340000</td>\n",
       "      <td>1.120000</td>\n",
       "      <td>0.060000</td>\n",
       "      <td>20.760000</td>\n",
       "      <td>0.000000</td>\n",
       "    </tr>\n",
       "    <tr>\n",
       "      <th>25%</th>\n",
       "      <td>398.585000</td>\n",
       "      <td>0.193000</td>\n",
       "      <td>0.026790</td>\n",
       "      <td>3.535000</td>\n",
       "      <td>7.000000</td>\n",
       "      <td>421.925000</td>\n",
       "      <td>406.720000</td>\n",
       "      <td>1.320000</td>\n",
       "      <td>45.715000</td>\n",
       "      <td>0.000000</td>\n",
       "    </tr>\n",
       "    <tr>\n",
       "      <th>50%</th>\n",
       "      <td>798.010000</td>\n",
       "      <td>0.241000</td>\n",
       "      <td>0.040330</td>\n",
       "      <td>4.140000</td>\n",
       "      <td>13.000000</td>\n",
       "      <td>819.360000</td>\n",
       "      <td>803.960000</td>\n",
       "      <td>2.480000</td>\n",
       "      <td>92.130000</td>\n",
       "      <td>0.000000</td>\n",
       "    </tr>\n",
       "    <tr>\n",
       "      <th>75%</th>\n",
       "      <td>1206.130000</td>\n",
       "      <td>0.480250</td>\n",
       "      <td>0.053908</td>\n",
       "      <td>4.949250</td>\n",
       "      <td>29.000000</td>\n",
       "      <td>1228.750000</td>\n",
       "      <td>1214.020000</td>\n",
       "      <td>5.460000</td>\n",
       "      <td>135.355000</td>\n",
       "      <td>0.000000</td>\n",
       "    </tr>\n",
       "    <tr>\n",
       "      <th>max</th>\n",
       "      <td>1589.720000</td>\n",
       "      <td>29.805000</td>\n",
       "      <td>0.100000</td>\n",
       "      <td>52.332000</td>\n",
       "      <td>871.000000</td>\n",
       "      <td>1606.560000</td>\n",
       "      <td>1592.500000</td>\n",
       "      <td>153.200000</td>\n",
       "      <td>365.640000</td>\n",
       "      <td>53.000000</td>\n",
       "    </tr>\n",
       "  </tbody>\n",
       "</table>\n",
       "</div>"
      ],
      "text/plain": [
       "       awaiting_time_s  estimate_time_us  nw_latency_s  planning_time_us  \\\n",
       "count      4796.000000       4796.000000   4796.000000       4796.000000   \n",
       "mean        801.487969          0.458628      0.041953          4.564994   \n",
       "std         461.686892          0.881040      0.017417          2.818630   \n",
       "min           1.040000          0.116000      0.020000          0.845000   \n",
       "25%         398.585000          0.193000      0.026790          3.535000   \n",
       "50%         798.010000          0.241000      0.040330          4.140000   \n",
       "75%        1206.130000          0.480250      0.053908          4.949250   \n",
       "max        1589.720000         29.805000      0.100000         52.332000   \n",
       "\n",
       "       reject_count  removed_time_s  reserved_time_s  response_time_s  \\\n",
       "count   4796.000000     4796.000000      4796.000000      4796.000000   \n",
       "mean      28.305254      822.015959       806.766768         5.278799   \n",
       "std       49.764432      461.627864       461.797503         8.999049   \n",
       "min        0.000000       22.340000         1.120000         0.060000   \n",
       "25%        7.000000      421.925000       406.720000         1.320000   \n",
       "50%       13.000000      819.360000       803.960000         2.480000   \n",
       "75%       29.000000     1228.750000      1214.020000         5.460000   \n",
       "max      871.000000     1606.560000      1592.500000       153.200000   \n",
       "\n",
       "       travel_time_s  unacceptable_count  \n",
       "count    4796.000000         4796.000000  \n",
       "mean       97.898424            0.127815  \n",
       "std        60.787036            1.122585  \n",
       "min        20.760000            0.000000  \n",
       "25%        45.715000            0.000000  \n",
       "50%        92.130000            0.000000  \n",
       "75%       135.355000            0.000000  \n",
       "max       365.640000           53.000000  "
      ]
     },
     "execution_count": 23,
     "metadata": {},
     "output_type": "execute_result"
    }
   ],
   "source": [
    "df5.describe()"
   ]
  },
  {
   "cell_type": "code",
   "execution_count": 10,
   "metadata": {},
   "outputs": [
    {
     "data": {
      "text/plain": [
       "6.8"
      ]
     },
     "execution_count": 10,
     "metadata": {},
     "output_type": "execute_result"
    }
   ],
   "source": [
    "0.04 * 170"
   ]
  },
  {
   "cell_type": "code",
   "execution_count": null,
   "metadata": {
    "collapsed": true
   },
   "outputs": [],
   "source": []
  }
 ],
 "metadata": {
  "kernelspec": {
   "display_name": "Python 3",
   "language": "python",
   "name": "python3"
  },
  "language_info": {
   "codemirror_mode": {
    "name": "ipython",
    "version": 3
   },
   "file_extension": ".py",
   "mimetype": "text/x-python",
   "name": "python",
   "nbconvert_exporter": "python",
   "pygments_lexer": "ipython3",
   "version": "3.6.1"
  }
 },
 "nbformat": 4,
 "nbformat_minor": 2
}
