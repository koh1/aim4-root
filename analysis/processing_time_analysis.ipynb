{
 "cells": [
  {
   "cell_type": "code",
   "execution_count": 1,
   "metadata": {
    "collapsed": true
   },
   "outputs": [],
   "source": [
    "%matplotlib inline\n",
    "\n",
    "import pandas as pd\n",
    "import numpy as np\n",
    "import matplotlib.pyplot as plt\n",
    "\n",
    "plt.style.use('ggplot')"
   ]
  },
  {
   "cell_type": "code",
   "execution_count": 2,
   "metadata": {
    "collapsed": true
   },
   "outputs": [],
   "source": [
    "def load_file(file_name):\n",
    "    f = open(file_name, 'r')\n",
    "    array_r = []\n",
    "    array_t = []\n",
    "    array_p = []\n",
    "    array_pps = []\n",
    "    for r in f:\n",
    "        \n",
    "        line = r.strip().split(' ')\n",
    "        #print(line)\n",
    "        if line[6].strip() == \"RESERVATION_CONFIRMED,\":\n",
    "            pass\n",
    "            #array_r.append([float(line[0].strip()), int(line[1].strip()), int(line[3].strip()), int(line[4].strip())])\n",
    "        elif line[6].strip() == \"VEHICLE_REMOVED,\":\n",
    "            pass\n",
    "            #array_t.append([float(line[0].strip()), int(line[1].strip()), float(line[3].strip())])\n",
    "        elif line[6].strip() == \"V2I_MSG_PROCESSED_PER_STEP,\":\n",
    "            array_pps.append(float(line[7]))\n",
    "        elif line[6].strip() == \"V2I_MSG_PROCESSED,\":\n",
    "            array_p.append(float(line[7][0:-1]))\n",
    "    #df_r = pd.DataFrame(array_r, columns=[\"time\", \"vid\", \"conflicts\", \"unacceptables\"])\n",
    "    #df_t = pd.DataFrame(array_t, columns=[\"time\", \"vid\", \"duration\"])\n",
    "    return array_p, array_pps\n",
    "    #return (df_r, df_t)"
   ]
  },
  {
   "cell_type": "code",
   "execution_count": 3,
   "metadata": {
    "collapsed": true
   },
   "outputs": [],
   "source": [
    "l2p, l2pps = load_file(\"/Users/koh1/dev/aim4-root/logs/mylog_v1000_2l.log\")\n",
    "l3p, l3pps = load_file(\"/Users/koh1/dev/aim4-root/logs/mylog_v1000_3l.log\")\n",
    "l5p, l5pps = load_file(\"/Users/koh1/dev/aim4-root/logs/mylog_v1000_5l.log\")\n"
   ]
  },
  {
   "cell_type": "code",
   "execution_count": 4,
   "metadata": {},
   "outputs": [
    {
     "data": {
      "text/plain": [
       "<matplotlib.legend.Legend at 0x11403fcf8>"
      ]
     },
     "execution_count": 4,
     "metadata": {},
     "output_type": "execute_result"
    },
    {
     "data": {
      "image/png": "[encoded data removed]",
      "text/plain": [
       "<matplotlib.figure.Figure at 0x113f23470>"
      ]
     },
     "metadata": {},
     "output_type": "display_data"
    }
   ],
   "source": [
    "plt.figure(figsize=(8,6))\n",
    "plt.hist(l2pps, bins=100, histtype='step', cumulative=True, normed=True, alpha=1, fill=False, label=\"2 lanes\", linewidth=2)\n",
    "plt.hist(l3pps, bins=100, histtype='step', cumulative=True, normed=True, alpha=1, fill=False, label=\"3 lanes\", linewidth=2)\n",
    "plt.hist(l5pps, bins=100, histtype='step', cumulative=True, normed=True, alpha=1, fill=False, label=\"5 lanes\", linewidth=2)\n",
    "plt.xlim(0,60000)\n",
    "plt.ylim(0.6, 1.1)\n",
    "plt.xlabel(\"calculation time per vehicle [usec]\")\n",
    "plt.legend(loc='lower left')"
   ]
  },
  {
   "cell_type": "markdown",
   "metadata": {},
   "source": [
    "# Request/Response Time"
   ]
  },
  {
   "cell_type": "code",
   "execution_count": 7,
   "metadata": {},
   "outputs": [],
   "source": [
    "def load_sim_result(file_name):\n",
    "    f = open(file_name, 'r')\n",
    "    # request-response (simulated computation and nw latency)\n",
    "    # travel time\n",
    "    # real calculation time for the vehicle\n",
    "    result_list = {}\n",
    "    result = []\n",
    "    for r in f:\n",
    "\n",
    "        line = r.strip().split(' ')\n",
    "        if line[6].strip() == \"ARRIVAL_ESTIMATE_TIME\":\n",
    "            devid = line[8].strip()\n",
    "            if devid in result_list:\n",
    "                result_list[devid][\"estimate_time_us\"] = float(line[7].strip())\n",
    "            else:\n",
    "                result_list[devid] = {\"estimate_time_us\": float(line[7].strip())}\n",
    "        elif line[6].strip() == \"AWAITING_RESPONSE\":\n",
    "            devid = line[8].strip()\n",
    "            if devid in result_list:\n",
    "                result_list[devid][\"awaiting_time_s\"] = float(line[7].strip())\n",
    "            else:\n",
    "                result_list[devid] = {\"awaiting_time_s\": float(line[7].strip())}\n",
    "        elif line[6].strip() == \"V2I_MSG_PROCESSED\":\n",
    "            devid = line[8].strip()\n",
    "            if devid in result_list:\n",
    "                result_list[devid][\"planning_time_us\"] = float(line[7].strip())\n",
    "            else:\n",
    "                result_list[devid] = {\"planning_time_us\": float(line[7].strip())}\n",
    "        elif line[6].strip() == \"RESERVATION_CONFIRMED\":\n",
    "            devid = line[8].strip()\n",
    "            if devid in result_list:\n",
    "                result_list[devid][\"reserved_time_s\"] = float(line[7].strip())\n",
    "                result_list[devid][\"response_time_s\"] = result_list[devid][\"reserved_time_s\"] - result_list[devid][\"awaiting_time_s\"]\n",
    "                result_list[devid][\"reject_count\"] = int(line[9].strip())\n",
    "                result_list[devid][\"unacceptable_count\"] = int(line[10].strip())\n",
    "                result_list[devid][\"nw_latency_s\"] = float(line[11].strip())                \n",
    "            else:\n",
    "                pass\n",
    "#                result_list[devid] = {\"reserved_time\": float(line[7].strip())}\n",
    "            #array_r.append([float(line[0].strip()), int(line[1].strip()), int(line[3].strip()), int(line[4].strip())])\n",
    "        elif line[6].strip() == \"VEHICLE_REMOVED\":\n",
    "            devid = line[8].strip()\n",
    "            if devid in result_list:\n",
    "                result_list[devid][\"removed_time_s\"] = float(line[7].strip())\n",
    "                result_list[devid][\"travel_time_s\"] = float(line[9].strip())\n",
    "            #array_t.append([float(line[0].strip()), int(line[1].strip()), float(line[3].strip())])\n",
    "        else:\n",
    "            pass\n",
    "        #elif line[6].strip() == \"V2I_MSG_PROCESSED_PER_STEP,\":\n",
    "    #df_r = pd.DataFrame(array_r, columns=[\"time\", \"vid\", \"conflicts\", \"unacceptables\"])\n",
    "    #df_t = pd.DataFrame(array_t, columns=[\"time\", \"vid\", \"duration\"])\n",
    "    for k,v in result_list.items():\n",
    "        nv = v\n",
    "        nv[\"devid\"] = k\n",
    "        result.append(nv)\n",
    "    return pd.DataFrame(result)\n",
    "    #return (df_r, df_t)"
   ]
  },
  {
   "cell_type": "code",
   "execution_count": 8,
   "metadata": {},
   "outputs": [],
   "source": [
    "lane1 = load_sim_result(\"/Users/koh1/dev/aim4-root/logs/mylog_v1000_1l_201802190035.log\")\n",
    "df1 = lane1.dropna(axis=0, how='any')\n",
    "lane2 = load_sim_result(\"/Users/koh1/dev/aim4-root/logs/mylog_v1000_2l_201802190035.log\")\n",
    "df2 = lane2.dropna(axis=0, how='any')\n",
    "lane3 = load_sim_result(\"/Users/koh1/dev/aim4-root/logs/mylog_v1000_3l_201802190035.log\")\n",
    "df3 = lane3.dropna(axis=0, how='any')\n",
    "lane4 = load_sim_result(\"/Users/koh1/dev/aim4-root/logs/mylog_v1000_4l_201802190035.log\")\n",
    "df4 = lane4.dropna(axis=0, how='any')\n",
    "lane5 = load_sim_result(\"/Users/koh1/dev/aim4-root/logs/mylog_v1000_5l_201802190035.log\")\n",
    "df5 = lane5.dropna(axis=0, how='any')"
   ]
  },
  {
   "cell_type": "code",
   "execution_count": 9,
   "metadata": {},
   "outputs": [
    {
     "data": {
      "text/plain": [
       "<matplotlib.legend.Legend at 0x114b1e668>"
      ]
     },
     "execution_count": 9,
     "metadata": {},
     "output_type": "execute_result"
    },
    {
     "data": {
      "image/png": "[encoded data removed]",
      "text/plain": [
       "<matplotlib.figure.Figure at 0x114ad4e10>"
      ]
     },
     "metadata": {},
     "output_type": "display_data"
    }
   ],
   "source": [
    "plt.figure(figsize=(8,6))\n",
    "plt.hist(df1[\"planning_time_us\"], bins=100, histtype='step', cumulative=True, normed=True, alpha=1, fill=False, label=\"1 lanes\", linewidth=2)\n",
    "plt.hist(df2[\"planning_time_us\"], bins=100, histtype='step', cumulative=True, normed=True, alpha=1, fill=False, label=\"2 lanes\", linewidth=2)\n",
    "plt.hist(df3[\"planning_time_us\"], bins=100, histtype='step', cumulative=True, normed=True, alpha=1, fill=False, label=\"3 lanes\", linewidth=2)\n",
    "plt.hist(df4[\"planning_time_us\"], bins=100, histtype='step', cumulative=True, normed=True, alpha=1, fill=False, label=\"4 lanes\", linewidth=2)\n",
    "plt.hist(df5[\"planning_time_us\"], bins=100, histtype='step', cumulative=True, normed=True, alpha=1, fill=False, label=\"5 lanes\", linewidth=2)\n",
    "#plt.xlim(0,40)\n",
    "plt.ylim(0.6, 1.05)\n",
    "plt.xlabel(\"planning time per vehicle [usec]\")\n",
    "plt.legend(loc='lower right')"
   ]
  },
  {
   "cell_type": "code",
   "execution_count": 118,
   "metadata": {},
   "outputs": [
    {
     "data": {
      "text/plain": [
       "<matplotlib.legend.Legend at 0x11abe0be0>"
      ]
     },
     "execution_count": 118,
     "metadata": {},
     "output_type": "execute_result"
    },
    {
     "data": {
      "image/png": "[encoded data removed]",
      "text/plain": [
       "<matplotlib.figure.Figure at 0x11990fb70>"
      ]
     },
     "metadata": {},
     "output_type": "display_data"
    }
   ],
   "source": [
    "plt.figure(figsize=(8,6))\n",
    "plt.hist(df1[\"estimate_time_us\"], bins=100, histtype='step', cumulative=True, normed=True, alpha=1, fill=False, label=\"1 lanes\", linewidth=2)\n",
    "plt.hist(df2[\"estimate_time_us\"], bins=100, histtype='step', cumulative=True, normed=True, alpha=1, fill=False, label=\"2 lanes\", linewidth=2)\n",
    "plt.hist(df3[\"estimate_time_us\"], bins=100, histtype='step', cumulative=True, normed=True, alpha=1, fill=False, label=\"3 lanes\", linewidth=2)\n",
    "plt.hist(df4[\"estimate_time_us\"], bins=100, histtype='step', cumulative=True, normed=True, alpha=1, fill=False, label=\"4 lanes\", linewidth=2)\n",
    "plt.hist(df5[\"estimate_time_us\"], bins=100, histtype='step', cumulative=True, normed=True, alpha=1, fill=False, label=\"5 lanes\", linewidth=2)\n",
    "#plt.xlim(0,40)\n",
    "plt.ylim(0.6, 1.05)\n",
    "plt.xlabel(\"estimate time per vehicle [usec]\")\n",
    "plt.legend(loc='lower right')"
   ]
  },
  {
   "cell_type": "code",
   "execution_count": 112,
   "metadata": {},
   "outputs": [
    {
     "data": {
      "text/plain": [
       "<matplotlib.legend.Legend at 0x11ad06518>"
      ]
     },
     "execution_count": 112,
     "metadata": {},
     "output_type": "execute_result"
    },
    {
     "data": {
      "image/png": "[encoded data removed]",
      "text/plain": [
       "<matplotlib.figure.Figure at 0x11aa40d30>"
      ]
     },
     "metadata": {},
     "output_type": "display_data"
    }
   ],
   "source": [
    "plt.figure(figsize=(8,6))\n",
    "plt.hist(df1[\"response_time_s\"], bins=100, histtype='step', cumulative=True, normed=True, alpha=1, fill=False, label=\"1 lanes\", linewidth=2)\n",
    "plt.hist(df2[\"response_time_s\"], bins=100, histtype='step', cumulative=True, normed=True, alpha=1, fill=False, label=\"2 lanes\", linewidth=2)\n",
    "plt.hist(df3[\"response_time_s\"], bins=100, histtype='step', cumulative=True, normed=True, alpha=1, fill=False, label=\"3 lanes\", linewidth=2)\n",
    "plt.hist(df4[\"response_time_s\"], bins=100, histtype='step', cumulative=True, normed=True, alpha=1, fill=False, label=\"4 lanes\", linewidth=2)\n",
    "plt.hist(df5[\"response_time_s\"], bins=100, histtype='step', cumulative=True, normed=True, alpha=1, fill=False, label=\"5 lanes\", linewidth=2)\n",
    "#plt.xlim(0,40)\n",
    "#plt.ylim(0.6, 1.05)\n",
    "plt.xlabel(\"response time [sec]\")\n",
    "plt.legend(loc='lower right')"
   ]
  },
  {
   "cell_type": "code",
   "execution_count": 114,
   "metadata": {},
   "outputs": [
    {
     "data": {
      "text/html": [
       "<div>\n",
       "<style>\n",
       "    .dataframe thead tr:only-child th {\n",
       "        text-align: right;\n",
       "    }\n",
       "\n",
       "    .dataframe thead th {\n",
       "        text-align: left;\n",
       "    }\n",
       "\n",
       "    .dataframe tbody tr th {\n",
       "        vertical-align: top;\n",
       "    }\n",
       "</style>\n",
       "<table border=\"1\" class=\"dataframe\">\n",
       "  <thead>\n",
       "    <tr style=\"text-align: right;\">\n",
       "      <th></th>\n",
       "      <th>awaiting_time_s</th>\n",
       "      <th>devid</th>\n",
       "      <th>estimate_time_us</th>\n",
       "      <th>nw_latency_s</th>\n",
       "      <th>planning_time_us</th>\n",
       "      <th>reject_count</th>\n",
       "      <th>removed_time_s</th>\n",
       "      <th>reserved_time_s</th>\n",
       "      <th>response_time_s</th>\n",
       "      <th>travel_time_s</th>\n",
       "      <th>unacceptable_count</th>\n",
       "    </tr>\n",
       "  </thead>\n",
       "  <tbody>\n",
       "    <tr>\n",
       "      <th>0</th>\n",
       "      <td>1.04</td>\n",
       "      <td>1000</td>\n",
       "      <td>6.889</td>\n",
       "      <td>0.021276</td>\n",
       "      <td>6.194</td>\n",
       "      <td>0.0</td>\n",
       "      <td>23.88</td>\n",
       "      <td>1.12</td>\n",
       "      <td>0.08</td>\n",
       "      <td>23.08</td>\n",
       "      <td>0.0</td>\n",
       "    </tr>\n",
       "    <tr>\n",
       "      <th>1</th>\n",
       "      <td>30.58</td>\n",
       "      <td>1001</td>\n",
       "      <td>0.434</td>\n",
       "      <td>0.035483</td>\n",
       "      <td>7.947</td>\n",
       "      <td>170.0</td>\n",
       "      <td>46.56</td>\n",
       "      <td>30.72</td>\n",
       "      <td>0.14</td>\n",
       "      <td>45.30</td>\n",
       "      <td>0.0</td>\n",
       "    </tr>\n",
       "    <tr>\n",
       "      <th>2</th>\n",
       "      <td>1.58</td>\n",
       "      <td>1002</td>\n",
       "      <td>7.067</td>\n",
       "      <td>0.029959</td>\n",
       "      <td>9.575</td>\n",
       "      <td>0.0</td>\n",
       "      <td>24.30</td>\n",
       "      <td>1.66</td>\n",
       "      <td>0.08</td>\n",
       "      <td>22.96</td>\n",
       "      <td>0.0</td>\n",
       "    </tr>\n",
       "    <tr>\n",
       "      <th>3</th>\n",
       "      <td>1.74</td>\n",
       "      <td>1003</td>\n",
       "      <td>8.880</td>\n",
       "      <td>0.032120</td>\n",
       "      <td>36.815</td>\n",
       "      <td>0.0</td>\n",
       "      <td>22.34</td>\n",
       "      <td>1.82</td>\n",
       "      <td>0.08</td>\n",
       "      <td>20.84</td>\n",
       "      <td>0.0</td>\n",
       "    </tr>\n",
       "    <tr>\n",
       "      <th>4</th>\n",
       "      <td>2.64</td>\n",
       "      <td>1004</td>\n",
       "      <td>6.185</td>\n",
       "      <td>0.083704</td>\n",
       "      <td>15.513</td>\n",
       "      <td>0.0</td>\n",
       "      <td>25.08</td>\n",
       "      <td>2.78</td>\n",
       "      <td>0.14</td>\n",
       "      <td>22.68</td>\n",
       "      <td>0.0</td>\n",
       "    </tr>\n",
       "  </tbody>\n",
       "</table>\n",
       "</div>"
      ],
      "text/plain": [
       "   awaiting_time_s devid  estimate_time_us  nw_latency_s  planning_time_us  \\\n",
       "0             1.04  1000             6.889      0.021276             6.194   \n",
       "1            30.58  1001             0.434      0.035483             7.947   \n",
       "2             1.58  1002             7.067      0.029959             9.575   \n",
       "3             1.74  1003             8.880      0.032120            36.815   \n",
       "4             2.64  1004             6.185      0.083704            15.513   \n",
       "\n",
       "   reject_count  removed_time_s  reserved_time_s  response_time_s  \\\n",
       "0           0.0           23.88             1.12             0.08   \n",
       "1         170.0           46.56            30.72             0.14   \n",
       "2           0.0           24.30             1.66             0.08   \n",
       "3           0.0           22.34             1.82             0.08   \n",
       "4           0.0           25.08             2.78             0.14   \n",
       "\n",
       "   travel_time_s  unacceptable_count  \n",
       "0          23.08                 0.0  \n",
       "1          45.30                 0.0  \n",
       "2          22.96                 0.0  \n",
       "3          20.84                 0.0  \n",
       "4          22.68                 0.0  "
      ]
     },
     "execution_count": 114,
     "metadata": {},
     "output_type": "execute_result"
    }
   ],
   "source": [
    "df5.head()"
   ]
  },
  {
   "cell_type": "code",
   "execution_count": 10,
   "metadata": {},
   "outputs": [
    {
     "data": {
      "text/plain": [
       "6.8"
      ]
     },
     "execution_count": 10,
     "metadata": {},
     "output_type": "execute_result"
    }
   ],
   "source": [
    "0.04 * 170"
   ]
  },
  {
   "cell_type": "code",
   "execution_count": null,
   "metadata": {
    "collapsed": true
   },
   "outputs": [],
   "source": []
  }
 ],
 "metadata": {
  "kernelspec": {
   "display_name": "Python 3",
   "language": "python",
   "name": "python3"
  },
  "language_info": {
   "codemirror_mode": {
    "name": "ipython",
    "version": 3
   },
   "file_extension": ".py",
   "mimetype": "text/x-python",
   "name": "python",
   "nbconvert_exporter": "python",
   "pygments_lexer": "ipython3",
   "version": "3.6.1"
  }
 },
 "nbformat": 4,
 "nbformat_minor": 2
}
